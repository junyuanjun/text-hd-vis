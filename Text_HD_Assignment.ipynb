{
 "cells": [
  {
   "cell_type": "markdown",
   "metadata": {},
   "source": [
    "# Text & HD Data Visualization Assignment\n",
    "In this lab, you are going to analyse a dataset containing Vox articles published before March 21, 2017. After your analysis, you should be able to finish the 6 tasks listed in the `README`.\n",
    "\n",
    "\n",
    "### The data loading part is provided below. Please add your code and explanations after the data loading part.\n",
    "If you are new to Jupyter Notebook, you may need to know the following things:\n",
    "1. You can click `Cell`->`Cell Type`->`Markdown` to change the cell into text in Markdown format. Google `Markdown` to learn the grammar."
   ]
  },
  {
   "cell_type": "code",
   "execution_count": 1,
   "metadata": {},
   "outputs": [],
   "source": [
    "import numpy as np, pandas as pd\n",
    "import gensim, spacy\n",
    "import gensim.corpora as corpora\n",
    "from gensim.utils import lemmatize, simple_preprocess\n",
    "from gensim.models import CoherenceModel\n",
    "import matplotlib.pyplot as plt\n",
    "import nltk\n",
    "from nltk.corpus import stopwords\n",
    "from gensim.parsing.porter import PorterStemmer\n",
    "from pprint import pprint\n",
    "from sklearn.decomposition import PCA\n",
    "from sklearn.manifold import TSNE\n",
    "import seaborn as sns\n",
    "from sklearn import cluster"
   ]
  },
  {
   "cell_type": "markdown",
   "metadata": {},
   "source": [
    "## Load Data"
   ]
  },
  {
   "cell_type": "code",
   "execution_count": 2,
   "metadata": {},
   "outputs": [],
   "source": [
    "data_loaded = pd.read_csv(filepath_or_buffer='VoxData.csv', sep=',', header=None, index_col=None)"
   ]
  },
  {
   "cell_type": "markdown",
   "metadata": {},
   "source": [
    "## Data Sense-making"
   ]
  },
  {
   "cell_type": "code",
   "execution_count": 3,
   "metadata": {},
   "outputs": [
    {
     "data": {
      "text/plain": [
       "['A new study by criminologists Sonja Siennick and Eric Stewart of Florida State University and Jeremy Staff of Penn State takes a hard look at the effects of incarceration on marriage. Here\\'s what we already know from other research, what this study says, and the questions that remain unanswered. What we already knew about incarceration and divorce Incarceration increases divorce rates. Studies consistently show that incarceration during marriage is correlated with higher divorce rates. When one spouse has been incarcerated before getting married, the couple isn\\'t any more likely to split up — but when a spouse is incarcerated during the marriage, the odds of divorce increase. Even after the inmate is released from prison, the marriage is still at risk. In fact, inmates and their spouses can be optimistic about their marriages before the inmate is released — but that optimism often falls apart.\\xa0One study of Dutch men found that their odds of divorce increased over the ten years after their incarceration. The longer the inmate is in prison, the more likely the marriage is to fail. One recent study found that each year of incarceration increases the odds that the inmate\\'s marriage will end in divorce (before or after the inmate gets out of prison) by an average of 32 percent. What this study adds Young married couples aren\\'t likely to go to jail. The researchers of this study based their work on a long-term survey of thousands of young American adults, and focused on those who were married by 18-28 years old. That\\'s earlier than many Americans marry — and doesn\\'t appear to overlap much with the population of Americans who go to jail. The study\\'s authors describe incarceration among married people as \"rare,\" \\xa0and their paper was based on fewer than 100 subjects. But when one spouse is incarcerated — even briefly — it\\'s bad for the marriage. Most of the respondents who\\'d been incarcerated weren\\'t in jail for very long. But even in the case of shorter jail or prison stays, current or former inmates were more likely to get divorced than people who\\'d never been incarcerated. In particular, spouses report that their marriages are less loving and more violent after incarceration than they were before. The authors of this study were particularly interested in how incarceration affected particular factors that might make it less appealing to stay in a marriage; easier to leave; or more attractive to find another partner. They found that after being incarcerated, former inmates said that there was less love in their relationships, more relationship violence, and more extramarital sex than people who\\'d never been incarcerated. (People who were surveyed about their marriages before going to prison didn\\'t report these affects, making it less likely that stressful marriages and incarceration are just things that go together.)  Despite his wife\\'s tears in this photo, Tom DeLay didn\\'t end up going to prison. Ben Sklar/Getty What we still don\\'t know  How representative are young married couples of all married couples, or of the inmate population as a whole? The authors of this study admit that people who get married young are more likely to break up when there\\'s trouble in their marriages than people who marry older. They\\'re also not necessarily representative of the broader population — or of people who get incarcerated — in terms of race, religion, or socioeconomic status. While previous studies about the effect of longer prison terms on marriage have been broader, this study about the effect of shorter stays on marriage might be working from an unrepresentative sample. Does stress on married couples come from the pain of separation, or from social stigma from others? The authors of this study suggest that because their evidence shows even a short jail stay can make a marriage more likely to dissolve years later, incarceration can\\'t just lead to divorce because of the pain of separation.\\xa0Instead, they say, it shows that the stigma facing someone who\\'s been incarcerated makes it harder to keep a marriage together, and easier for a spouse to leave.  But since their study subjects come from a group where incarceration is relatively uncommon, there might be more stigma facing them within their circles of immediate friends and family than there is in places where incarceration is more common. Many criminologists think that the communities where young people are most likely to be incarcerated don\\'t hold out as much stigma. So this might be one place where this study is dangerous to generalize. Is better inmate marital counseling the answer? The study\\'s authors suggest that their research shows how prisons could use marital counseling, during and after incarceration, to help keep couples close and promote nonviolent conflict resolution. Maybe it could. But there\\'s still a lot more research showing that incarceration harms marriages than showing what parts of a marriage, in particular, it weakens. So for the moment, it seems more likely that policymakers have a better shot at fixing the harms shown in these studies by putting fewer people in prison or jail to begin with.']"
      ]
     },
     "execution_count": 3,
     "metadata": {},
     "output_type": "execute_result"
    }
   ],
   "source": [
    "data = data_loaded.values\n",
    "data = data.reshape(data.shape[0],)\n",
    "data.tolist()[:1]"
   ]
  },
  {
   "cell_type": "code",
   "execution_count": 4,
   "metadata": {},
   "outputs": [
    {
     "data": {
      "text/plain": [
       "(6904,)"
      ]
     },
     "execution_count": 4,
     "metadata": {},
     "output_type": "execute_result"
    }
   ],
   "source": [
    "data.shape"
   ]
  },
  {
   "cell_type": "markdown",
   "metadata": {},
   "source": [
    "## Task 1"
   ]
  },
  {
   "cell_type": "code",
   "execution_count": null,
   "metadata": {},
   "outputs": [],
   "source": []
  },
  {
   "cell_type": "markdown",
   "metadata": {},
   "source": [
    "## Task 2"
   ]
  },
  {
   "cell_type": "code",
   "execution_count": null,
   "metadata": {},
   "outputs": [],
   "source": []
  },
  {
   "cell_type": "markdown",
   "metadata": {},
   "source": [
    "## Task 3"
   ]
  },
  {
   "cell_type": "code",
   "execution_count": null,
   "metadata": {},
   "outputs": [],
   "source": []
  },
  {
   "cell_type": "markdown",
   "metadata": {},
   "source": [
    "## Task 4"
   ]
  },
  {
   "cell_type": "code",
   "execution_count": null,
   "metadata": {},
   "outputs": [],
   "source": []
  },
  {
   "cell_type": "markdown",
   "metadata": {},
   "source": [
    "## Task 5"
   ]
  },
  {
   "cell_type": "code",
   "execution_count": null,
   "metadata": {},
   "outputs": [],
   "source": []
  },
  {
   "cell_type": "markdown",
   "metadata": {},
   "source": [
    "## Task 6"
   ]
  },
  {
   "cell_type": "code",
   "execution_count": null,
   "metadata": {},
   "outputs": [],
   "source": []
  }
 ],
 "metadata": {
  "kernelspec": {
   "display_name": "Python 3",
   "language": "python",
   "name": "python3"
  },
  "language_info": {
   "codemirror_mode": {
    "name": "ipython",
    "version": 3
   },
   "file_extension": ".py",
   "mimetype": "text/x-python",
   "name": "python",
   "nbconvert_exporter": "python",
   "pygments_lexer": "ipython3",
   "version": "3.6.1"
  }
 },
 "nbformat": 4,
 "nbformat_minor": 2
}
